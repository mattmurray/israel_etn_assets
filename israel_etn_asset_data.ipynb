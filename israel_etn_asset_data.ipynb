{
 "cells": [
  {
   "cell_type": "markdown",
   "metadata": {
    "deletable": true,
    "editable": true
   },
   "source": [
    "# Product-level assets for Israeli ETNs"
   ]
  },
  {
   "cell_type": "markdown",
   "metadata": {
    "deletable": true,
    "editable": true
   },
   "source": [
    "This notebook will download and save (in CSV format) product-level asset data reported by Israeli ETN issuers to the Tel Aviv Stock Exchange.  \n",
    "  \n",
    "The output CSV file contains:\n",
    " - A product identifier resembling a CUSIP value\n",
    " - Assets denominated in NIS 1000s (New Israeli Shekel in 1000s)\n",
    " - Assets denominated in US dollars\n",
    " - Assets denominated in US dollars (millions)"
   ]
  },
  {
   "cell_type": "markdown",
   "metadata": {
    "deletable": true,
    "editable": true
   },
   "source": [
    "### 1. Imports and functions"
   ]
  },
  {
   "cell_type": "code",
   "execution_count": 1,
   "metadata": {
    "collapsed": false,
    "deletable": true,
    "editable": true
   },
   "outputs": [],
   "source": [
    "import pandas as pd\n",
    "from bs4 import BeautifulSoup as bs\n",
    "import requests\n",
    "from selenium import webdriver\n",
    "import re\n",
    "import time\n",
    "from io import StringIO\n",
    "from forex_python.converter import CurrencyRates\n",
    "from datetime import datetime"
   ]
  },
  {
   "cell_type": "code",
   "execution_count": 2,
   "metadata": {
    "collapsed": true,
    "deletable": true,
    "editable": true
   },
   "outputs": [],
   "source": [
    "def find_hrefs_by_regex(bs, reg_exp):\n",
    "    all_items = bs.find_all(\"a\", href=re.compile(reg_exp))\n",
    "    return all_items\n",
    "\n",
    "def convert_to_usd(val):\n",
    "    val = float(val)\n",
    "    usd_val = (val / fx_rate) * 1000\n",
    "    rounded_usd_val = round(usd_val, 2)\n",
    "    return rounded_usd_val"
   ]
  },
  {
   "cell_type": "markdown",
   "metadata": {
    "deletable": true,
    "editable": true
   },
   "source": [
    "### 2. Set variables and initialize objects"
   ]
  },
  {
   "cell_type": "markdown",
   "metadata": {
    "deletable": true,
    "editable": true
   },
   "source": [
    "Note that `date_from` and `date_to` below refer to the date report was submitted. Usually, the reports are submitted within the first week of the month.  \n",
    "\n",
    "If, for example, you wish to retrieve end of April data, set `date_from` to May 1st, and `date_to` to around May 15th.\n",
    "  \n",
    "`date_month_end` is used primarily for obtaining the month-end USD/ILS exchange rate. Use a business day to ensure a value is returned. This date will also be stored in the CSV file name."
   ]
  },
  {
   "cell_type": "code",
   "execution_count": 3,
   "metadata": {
    "collapsed": true,
    "deletable": true,
    "editable": true
   },
   "outputs": [],
   "source": [
    "date_from = '2017-02-01'\n",
    "date_to = '2017-02-15'\n",
    "date_month_end = '2017-01-31'\n",
    "\n",
    "public_exposure = 'ציבור וחשיפה'\n",
    "cusip = 'מספר נייר ערך'\n",
    "assets = 'שווי החזקות ציבור בהתאם למחיר בבורסה (באלפי שח)'\n",
    "\n",
    "directory_to_save_csv = 'data'\n",
    "csv_file_name = 'israel_product_data_{}.csv'.format(date_month_end)"
   ]
  },
  {
   "cell_type": "markdown",
   "metadata": {
    "deletable": true,
    "editable": true
   },
   "source": [
    "*Note that when testing this script I noticed when setting the dates to December 2016 that one of the files had been mislabeled with the below title. If you find that the final product count / total assets for Israel is too low, this may be the cause.*  \n",
    "  \n",
    "*In this instance, I was able to uncomment the below line and amend code (currently commented out) further down in sections 3 and 4. However, doing this may break the script on other occasions.*"
   ]
  },
  {
   "cell_type": "code",
   "execution_count": 4,
   "metadata": {
    "collapsed": true,
    "deletable": true,
    "editable": true
   },
   "outputs": [],
   "source": [
    "# public_holdings = 'החזקות ציבור במכשירים פיננסים'"
   ]
  },
  {
   "cell_type": "markdown",
   "metadata": {
    "deletable": true,
    "editable": true
   },
   "source": [
    "This notebook is set up to operate using Chrome driver but can be easily customized for use with other browsers."
   ]
  },
  {
   "cell_type": "code",
   "execution_count": 5,
   "metadata": {
    "collapsed": true,
    "deletable": true,
    "editable": true
   },
   "outputs": [],
   "source": [
    "chrome_driver = \"/Applications/chromedriver\""
   ]
  },
  {
   "cell_type": "markdown",
   "metadata": {
    "deletable": true,
    "editable": true
   },
   "source": [
    "### 3. Collect report urls"
   ]
  },
  {
   "cell_type": "code",
   "execution_count": 6,
   "metadata": {
    "collapsed": false,
    "deletable": true,
    "editable": true
   },
   "outputs": [
    {
     "data": {
      "text/plain": [
       "'http://maya.tase.co.il/reports/etn?q=%7B%22DateFrom%22:%222017-02-01T21:00:00.000Z%22,%22DateTo%22:%222017-02-15T22:00:00.000Z%22,%22QOpt%22:1,%22events%22:%5B2000%5D,%22subevents%22:%5B913%5D,%22Page%22:1%7D'"
      ]
     },
     "execution_count": 6,
     "metadata": {},
     "output_type": "execute_result"
    }
   ],
   "source": [
    "url = 'http://maya.tase.co.il/reports/etn?q=%7B%22DateFrom%22:%22{}T21:00:00.000Z%22,%22DateTo%22:%22{}T22:00:00.000Z%22,%22QOpt%22:1,%22events%22:%5B2000%5D,%22subevents%22:%5B913%5D,%22Page%22:1%7D'.format(date_from, date_to)\n",
    "url"
   ]
  },
  {
   "cell_type": "code",
   "execution_count": 7,
   "metadata": {
    "collapsed": false,
    "deletable": true,
    "editable": true
   },
   "outputs": [],
   "source": [
    "driver = webdriver.Chrome(chrome_driver)\n",
    "driver.get(url)\n",
    "time.sleep(5)\n",
    "html = bs(driver.page_source, 'lxml')\n",
    "driver.quit()"
   ]
  },
  {
   "cell_type": "code",
   "execution_count": 8,
   "metadata": {
    "collapsed": false,
    "deletable": true,
    "editable": true
   },
   "outputs": [],
   "source": [
    "divs = html.find_all('div', class_='feedItem ng-scope')"
   ]
  },
  {
   "cell_type": "code",
   "execution_count": 9,
   "metadata": {
    "collapsed": false,
    "deletable": true,
    "editable": true
   },
   "outputs": [],
   "source": [
    "report_urls = []\n",
    "for div in divs:\n",
    "    report_url = find_hrefs_by_regex(div, 'reports*')\n",
    "    title = report_url[0]['title']\n",
    "    \n",
    "    # Switch the below two lines if you apply the public_holdings fix\n",
    "#     if public_exposure or public_holdings in title:\n",
    "    if public_exposure in title:\n",
    "        # full url is the path to the txt file of the data\n",
    "        full_url = '{}{}{}'.format('http://maya.tase.co.il/', report_url[0]['href'],'/3/0')\n",
    "        report_urls.append(full_url)"
   ]
  },
  {
   "cell_type": "code",
   "execution_count": 10,
   "metadata": {
    "collapsed": false,
    "deletable": true,
    "editable": true
   },
   "outputs": [
    {
     "data": {
      "text/plain": [
       "['http://maya.tase.co.il/reports/details/1082126/3/0',\n",
       " 'http://maya.tase.co.il/reports/details/1080385/3/0',\n",
       " 'http://maya.tase.co.il/reports/details/1080372/3/0',\n",
       " 'http://maya.tase.co.il/reports/details/1079941/3/0',\n",
       " 'http://maya.tase.co.il/reports/details/1079804/3/0']"
      ]
     },
     "execution_count": 10,
     "metadata": {},
     "output_type": "execute_result"
    }
   ],
   "source": [
    "report_urls"
   ]
  },
  {
   "cell_type": "markdown",
   "metadata": {
    "deletable": true,
    "editable": true
   },
   "source": [
    "### 4. Visit each report url and store data in DataFrames"
   ]
  },
  {
   "cell_type": "code",
   "execution_count": 11,
   "metadata": {
    "collapsed": true,
    "deletable": true,
    "editable": true
   },
   "outputs": [],
   "source": [
    "list_of_dfs = []"
   ]
  },
  {
   "cell_type": "code",
   "execution_count": 12,
   "metadata": {
    "collapsed": false,
    "deletable": true,
    "editable": true
   },
   "outputs": [],
   "source": [
    "driver = webdriver.Chrome(chrome_driver)\n",
    "\n",
    "for url in report_urls:\n",
    "    \n",
    "    # visit url and locate the text file\n",
    "    driver.get(url)\n",
    "    time.sleep(5)\n",
    "    html = bs(driver.page_source, 'lxml')\n",
    "    txt_file = html.find('button', class_='mob fullScreenButton').parent['href']\n",
    "    t = requests.get(txt_file)\n",
    "    t.encoding = 'UTF-8'\n",
    "    \n",
    "    # store text file in DataFrame\n",
    "    data = pd.read_csv(StringIO(t.text), delimiter='\\t')\n",
    "    \n",
    "    # find the relevant columns\n",
    "    cols = {}\n",
    "    count = 0\n",
    "    for c in data.columns:\n",
    "        count += 1\n",
    "        if cusip in c:\n",
    "            cols['cusip'] = count - 1\n",
    "        if assets in c:\n",
    "            cols['assets'] = count - 1\n",
    "        # if you uncomment the public_holdings line, uncomment these two lines too\n",
    "#         elif public_holdings in c:\n",
    "#             cols['assets'] = count - 1\n",
    "    \n",
    "    # create new DataFrame containing only these two columns\n",
    "    product_data = data.ix[:,[cols['cusip'],cols['assets']]]\n",
    "    product_data.columns = ['cusip','assets_nis_1000s']\n",
    "    product_data = product_data.dropna(axis=0)\n",
    "    \n",
    "    # get the USD-ILS exchange rate at month-end\n",
    "    date_obj = datetime.strptime(date_to, \"%Y-%m-%d\")\n",
    "    c = CurrencyRates()\n",
    "    fx_rate = c.get_rate('USD', 'ILS', date_obj)\n",
    "    \n",
    "    # convert asset data into US dollars\n",
    "    product_data['assets_usd'] = product_data['assets_nis_1000s'].apply(convert_to_usd)\n",
    "    product_data['assets_usd_mn'] = round(product_data['assets_usd'] / 1000000, 2)\n",
    "    \n",
    "    # store DataFrame in list\n",
    "    list_of_dfs.append(product_data)\n",
    "    \n",
    "driver.quit()"
   ]
  },
  {
   "cell_type": "markdown",
   "metadata": {
    "deletable": true,
    "editable": true
   },
   "source": [
    "### 5. Concatenate DataFrames and drop duplicate values"
   ]
  },
  {
   "cell_type": "markdown",
   "metadata": {
    "deletable": true,
    "editable": true
   },
   "source": [
    "Sometimes an issuer may upload a revised file, so to account for any duplicates the code removes any duplicate values and keeps the first value it finds (the website is ordered by date in descending order so newer data will be first)."
   ]
  },
  {
   "cell_type": "code",
   "execution_count": 13,
   "metadata": {
    "collapsed": false,
    "deletable": true,
    "editable": true
   },
   "outputs": [
    {
     "data": {
      "text/plain": [
       "5"
      ]
     },
     "execution_count": 13,
     "metadata": {},
     "output_type": "execute_result"
    }
   ],
   "source": [
    "len(list_of_dfs)"
   ]
  },
  {
   "cell_type": "code",
   "execution_count": 14,
   "metadata": {
    "collapsed": false,
    "deletable": true,
    "editable": true
   },
   "outputs": [
    {
     "data": {
      "text/plain": [
       "898"
      ]
     },
     "execution_count": 14,
     "metadata": {},
     "output_type": "execute_result"
    }
   ],
   "source": [
    "all_data = pd.concat(list_of_dfs)\n",
    "len(all_data)"
   ]
  },
  {
   "cell_type": "code",
   "execution_count": 15,
   "metadata": {
    "collapsed": false,
    "deletable": true,
    "editable": true
   },
   "outputs": [
    {
     "data": {
      "text/html": [
       "<div>\n",
       "<table border=\"1\" class=\"dataframe\">\n",
       "  <thead>\n",
       "    <tr style=\"text-align: right;\">\n",
       "      <th></th>\n",
       "      <th>cusip</th>\n",
       "      <th>assets_nis_1000s</th>\n",
       "      <th>assets_usd</th>\n",
       "      <th>assets_usd_mn</th>\n",
       "    </tr>\n",
       "  </thead>\n",
       "  <tbody>\n",
       "    <tr>\n",
       "      <th>104</th>\n",
       "      <td>1133917.0</td>\n",
       "      <td>158094.0</td>\n",
       "      <td>4.220567e+07</td>\n",
       "      <td>42.21</td>\n",
       "    </tr>\n",
       "    <tr>\n",
       "      <th>88</th>\n",
       "      <td>1131291.0</td>\n",
       "      <td>315689.0</td>\n",
       "      <td>8.427812e+07</td>\n",
       "      <td>84.28</td>\n",
       "    </tr>\n",
       "    <tr>\n",
       "      <th>69</th>\n",
       "      <td>1135086.0</td>\n",
       "      <td>41979.0</td>\n",
       "      <td>1.120695e+07</td>\n",
       "      <td>11.21</td>\n",
       "    </tr>\n",
       "    <tr>\n",
       "      <th>96</th>\n",
       "      <td>1109370.0</td>\n",
       "      <td>648005.0</td>\n",
       "      <td>1.729951e+08</td>\n",
       "      <td>173.00</td>\n",
       "    </tr>\n",
       "    <tr>\n",
       "      <th>133</th>\n",
       "      <td>1138007.0</td>\n",
       "      <td>5234.0</td>\n",
       "      <td>1.397298e+06</td>\n",
       "      <td>1.40</td>\n",
       "    </tr>\n",
       "  </tbody>\n",
       "</table>\n",
       "</div>"
      ],
      "text/plain": [
       "         cusip  assets_nis_1000s    assets_usd  assets_usd_mn\n",
       "104  1133917.0          158094.0  4.220567e+07          42.21\n",
       "88   1131291.0          315689.0  8.427812e+07          84.28\n",
       "69   1135086.0           41979.0  1.120695e+07          11.21\n",
       "96   1109370.0          648005.0  1.729951e+08         173.00\n",
       "133  1138007.0            5234.0  1.397298e+06           1.40"
      ]
     },
     "execution_count": 15,
     "metadata": {},
     "output_type": "execute_result"
    }
   ],
   "source": [
    "all_data.sample(5)"
   ]
  },
  {
   "cell_type": "code",
   "execution_count": 16,
   "metadata": {
    "collapsed": false
   },
   "outputs": [
    {
     "data": {
      "text/plain": [
       "690"
      ]
     },
     "execution_count": 16,
     "metadata": {},
     "output_type": "execute_result"
    }
   ],
   "source": [
    "all_data = all_data.drop_duplicates(subset='cusip', keep='first')\n",
    "len(all_data)"
   ]
  },
  {
   "cell_type": "code",
   "execution_count": 17,
   "metadata": {
    "collapsed": false,
    "deletable": true,
    "editable": true
   },
   "outputs": [
    {
     "data": {
      "text/plain": [
       "29201.61999999997"
      ]
     },
     "execution_count": 17,
     "metadata": {},
     "output_type": "execute_result"
    }
   ],
   "source": [
    "total_israel_aum = all_data['assets_usd_mn'].sum()\n",
    "total_israel_aum"
   ]
  },
  {
   "cell_type": "code",
   "execution_count": 18,
   "metadata": {
    "collapsed": false,
    "deletable": true,
    "editable": true
   },
   "outputs": [
    {
     "data": {
      "text/plain": [
       "690"
      ]
     },
     "execution_count": 18,
     "metadata": {},
     "output_type": "execute_result"
    }
   ],
   "source": [
    "number_of_products = len(all_data)\n",
    "number_of_products"
   ]
  },
  {
   "cell_type": "markdown",
   "metadata": {
    "deletable": true,
    "editable": true
   },
   "source": [
    "### 6. Export to CSV"
   ]
  },
  {
   "cell_type": "code",
   "execution_count": 19,
   "metadata": {
    "collapsed": true,
    "deletable": true,
    "editable": true
   },
   "outputs": [],
   "source": [
    "all_data.to_csv('{}/{}'.format(directory_to_save_csv, csv_file_name), index=None)"
   ]
  }
 ],
 "metadata": {
  "kernelspec": {
   "display_name": "Python 3",
   "language": "python",
   "name": "python3"
  },
  "language_info": {
   "codemirror_mode": {
    "name": "ipython",
    "version": 3
   },
   "file_extension": ".py",
   "mimetype": "text/x-python",
   "name": "python",
   "nbconvert_exporter": "python",
   "pygments_lexer": "ipython3",
   "version": "3.6.0"
  }
 },
 "nbformat": 4,
 "nbformat_minor": 2
}
